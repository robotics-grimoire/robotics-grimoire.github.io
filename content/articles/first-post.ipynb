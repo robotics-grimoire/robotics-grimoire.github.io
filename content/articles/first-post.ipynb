{
 "cells": [
  {
   "cell_type": "markdown",
   "metadata": {},
   "source": [
    "- title: And So It Begins (Again)...\n",
    "- date: 2019-06-30\n",
    "- modified: 2019-07-01 12:00\n",
    "- category: Introduction\n",
    "- tags: Introduction\n",
    "- slug: and-so-it-begins-again\n",
    "- summary: Introduction to the Grimoire"
   ]
  },
  {
   "cell_type": "markdown",
   "metadata": {},
   "source": [
    "I've never been great at maintaining a blog. In my mind, a good blog is updated periodically and has some common theme, and I've never been disciplined enough for either. There's always another interest that's worth investigating, and there's always another event that preempts my schedule. But the reality is, I was wrong: there's no hard/fast rule that says it has to be either, and in fact many great ones adhere to neither!\n",
    "\n",
    "So here I am trying again. This will serve as a collection of my notes, tinkerings, and investigations into all matters dealing with software, electrical, and systems engineering. My real passion is in robotics and intelligent systems; both are rather broad areas, and each article has some tie back to those.\n",
    "\n",
    "At first, I will be trying to restore older posts from other blog attempts. These may be all over the place, but should be enjoyable to read. Occasionally, I'll try to add some application artifacts (Jupyter notebooks, YouTube videos, etc.). But, no promises regarding timing.\n",
    "\n",
    "So, without further ado, let's start this journey!"
   ]
  }
 ],
 "metadata": {
  "kernelspec": {
   "display_name": "Python 3",
   "language": "python",
   "name": "python3"
  },
  "language_info": {
   "codemirror_mode": {
    "name": "ipython",
    "version": 3
   },
   "file_extension": ".py",
   "mimetype": "text/x-python",
   "name": "python",
   "nbconvert_exporter": "python",
   "pygments_lexer": "ipython3",
   "version": "3.6.8"
  }
 },
 "nbformat": 4,
 "nbformat_minor": 4
}
