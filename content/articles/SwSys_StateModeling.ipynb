{
 "cells": [
  {
   "cell_type": "markdown",
   "metadata": {},
   "source": [
    "- title: The Statefulness of Systems and Software\n",
    "- date: 2020-07-25\n",
    "- modified: 2020-07-25 00:00\n",
    "- category: Engineering\n",
    "- tags: Systems Engineering, Software Engineering\n",
    "- slug: StatefulSystems\n",
    "- summary: Breakdown of how most systems have state\n",
    "- header_cover: images/mathematics-banner.jpg"
   ]
  },
  {
   "cell_type": "markdown",
   "metadata": {},
   "source": [
    "Most of the time in software engineering, designers tend to shun or gravitate towards utilizing the internal state of the module they're developing. This post isn't to discuss that. Rather, it's to show that the concept of *state* is a embedded in a wide range of structures. But first, let's try to define what's meant by state itself."
   ]
  },
  {
   "cell_type": "markdown",
   "metadata": {},
   "source": [
    "# The Stateful Nature of Things\n",
    "Usually in signal processing and many other software applications, we like to think of things as a function. Some set of inputs **x** is passed to a function $f()$, and we get a response **y** from that function."
   ]
  },
  {
   "cell_type": "markdown",
   "metadata": {},
   "source": [
    "![Time Invariant System](../images/TI_System.png)\n",
    "<figcaption><i>Fig. 1 - Time-Invariant System Flow</i></figcaption>"
   ]
  },
  {
   "cell_type": "markdown",
   "metadata": {},
   "source": [
    "A lot of things seem to work that way: a light bulb filament gives off light proportionate to the energy applied to it. This lack of statefulness implies *time invariance*: It doesn't matter when energy is applied, the filament gives off light.\n",
    "\n",
    "It's a convenient way to understand systems. This is how *data driven* systems are designed: Data goes in, transformed data comes out. But time invariance places specific requirements on the inputs themselves. When such a system is given an *impulse*, it changes its response only then and provides a transient response afterwards (which can include no response at all!). Take for example listening to the radio: if the signal is disrupted, but what if we don't want the music to abruptly stop? Many streaming services have *buffering* built into them to cache the stream so that disruptions in the signal are masked by the buffer itself. In a sense, this buffer cache is providing a state to the application: as long as it isn't empty, normal operations can progress!\n",
    "\n",
    "Digital control systems are usually designed considering that the input signal may be *latent* or *dropped* an update, but they still have requirements to produce their output following some periodic. Because of this, a lot of signal processing implementations follow this model."
   ]
  },
  {
   "cell_type": "markdown",
   "metadata": {},
   "source": [
    "![Time Invariant System](../images/nonTI_System.png)\n",
    "<figcaption><i>Fig. 2 - Data-Robust System Flow</i></figcaption>"
   ]
  },
  {
   "cell_type": "markdown",
   "metadata": {},
   "source": [
    "The above model now has two **triggers** for generating an output: one is upon receipt of new data, and another is when the timer expires. This simple model guarantees a data rate of at-least the timer rate, which is applicable in a lot of design circumstances. But the internal **state** of the controller changes based on the trigger because the logic for when no new data is available will activate or deactivate based on the trigger."
   ]
  },
  {
   "cell_type": "markdown",
   "metadata": {},
   "source": [
    "# State Modeling\n",
    "Lets take a look at some sample code describing a system like in Figure 2."
   ]
  },
  {
   "cell_type": "markdown",
   "metadata": {},
   "source": [
    "```c++\n",
    "#include <MyInputApi.h>\n",
    "#include <MyOutputApi.h>\n",
    "#include <MyOverseerApi.h>\n",
    "#include <MyTransformApi.h>\n",
    "\n",
    "void MyMain()\n",
    "{\n",
    "  MyTransformApi hiddenFunc;\n",
    "  try\n",
    "  {\n",
    "    // Initialize the interfaces\n",
    "    MyInputApi inputIf;\n",
    "    inputIf.connect();\n",
    "\n",
    "    MyOutputApi outputIf;\n",
    "    outputIf.connect();\n",
    "\n",
    "    std::string buf;\n",
    "    while(MyOverseerApi::getInstance().keepRunning())\n",
    "    {\n",
    "      buf.clear();\n",
    "      MyTransformApi::OutData output;\n",
    "\n",
    "      if(inputIf.getNext(buf))\n",
    "      {\n",
    "        // Got new data\n",
    "        output = hiddenFunc.magic(buf);\n",
    "      }\n",
    "      else\n",
    "      {\n",
    "        // Data wasn't available\n",
    "        output = hiddenFunc.extrapolateFromLast();\n",
    "      }\n",
    "      outputIf.send(output);\n",
    "    }    \n",
    "  }\n",
    "  catch(...)\n",
    "  {\n",
    "    std::cout << \"Caught an exception, so aborting!\" << std::endl;\n",
    "  }\n",
    "}\n",
    "```"
   ]
  },
  {
   "cell_type": "markdown",
   "metadata": {},
   "source": [
    "In general, the above code is very functional and has a simple decision flow that can be described like this:"
   ]
  },
  {
   "cell_type": "code",
   "execution_count": null,
   "metadata": {},
   "outputs": [],
   "source": []
  }
 ],
 "metadata": {
  "kernelspec": {
   "display_name": "Python 3",
   "language": "python",
   "name": "python3"
  },
  "language_info": {
   "codemirror_mode": {
    "name": "ipython",
    "version": 3
   },
   "file_extension": ".py",
   "mimetype": "text/x-python",
   "name": "python",
   "nbconvert_exporter": "python",
   "pygments_lexer": "ipython3",
   "version": "3.8.2"
  }
 },
 "nbformat": 4,
 "nbformat_minor": 4
}
